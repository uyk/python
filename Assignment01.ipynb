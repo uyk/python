{
 "cells": [
  {
   "cell_type": "markdown",
   "metadata": {},
   "source": [
    "# Script Programming\n",
    "##Assignment 01"
   ]
  },
  {
   "cell_type": "code",
   "execution_count": 1,
   "metadata": {
    "collapsed": false,
    "scrolled": false
   },
   "outputs": [
    {
     "name": "stdout",
     "output_type": "stream",
     "text": [
      "Python Hello\n"
     ]
    }
   ],
   "source": [
    "a = \"Hello Python\"\n",
    "a = a[6:] + \" \" + a[:5]\n",
    "print a"
   ]
  },
  {
   "cell_type": "markdown",
   "metadata": {},
   "source": [
    "a에 \"Hello Python\"을 저장한다.\n",
    "6번째 인덱스부터 끝까지, 공백, 0번째인덱스부터 4번째 인덱스를 차례로 슬라이싱하여 a에 저장한다.\n",
    "a에 저장된것을 출력한다"
   ]
  },
  {
   "cell_type": "code",
   "execution_count": 2,
   "metadata": {
    "collapsed": false
   },
   "outputs": [
    {
     "name": "stdout",
     "output_type": "stream",
     "text": [
      "World Python Hello\n"
     ]
    }
   ],
   "source": [
    "b = \"Hello Python World\"\n",
    "b = b[13:] + \" \" + b[6:13] + b[:5]\n",
    "print b"
   ]
  },
  {
   "cell_type": "markdown",
   "metadata": {},
   "source": [
    "b에 \"Hello Python World\"를 저장한다. 인덱스 13부터 끝까지, 공백, 인덱스 3부터 13까지, 인덱스 0부터 5까지를 차례로 슬라이싱하여 b에 저장한다.\n",
    "b에 저장된 것을 출력한다."
   ]
  },
  {
   "cell_type": "code",
   "execution_count": 3,
   "metadata": {
    "collapsed": false
   },
   "outputs": [
    {
     "name": "stdout",
     "output_type": "stream",
     "text": [
      "olleH\n"
     ]
    }
   ],
   "source": [
    "c = \"Hello\"\n",
    "c = c[::-1]\n",
    "print c"
   ]
  },
  {
   "cell_type": "markdown",
   "metadata": {},
   "source": [
    "c에 \"Hello\"를 저장한다. c의 맨 끝에서 하나씩 역순으로 출력하여 저장하기 위해 슬라이싱의 step에 -1을 넣는다. c에 저장된것을 출력한다."
   ]
  },
  {
   "cell_type": "code",
   "execution_count": 4,
   "metadata": {
    "collapsed": false
   },
   "outputs": [
    {
     "name": "stdout",
     "output_type": "stream",
     "text": [
      "p p p\n",
      "ytho\n",
      "\n",
      "End\n"
     ]
    }
   ],
   "source": [
    "s = \"python\"\n",
    "print s[0], s[0][0], s[0][0][0]\n",
    "#print s[-100], s[100]\n",
    "#print s[-100, 100]\n",
    "print s[1:-1]\n",
    "print s[3:-3]\n",
    "print \"End\""
   ]
  },
  {
   "cell_type": "markdown",
   "metadata": {},
   "source": [
    "① print s[0], s[0][0], s[0][0][0]\n",
    "- 모두 s의 첫번째 인덱스를 참조하는 것이므로 p가 출력된다.\n",
    "\n",
    "② print s[-100], s[100]\n",
    "- s의 인덱스 밖을 참조하므로 에러\n",
    "\n",
    "③ print s[-100, 100]\n",
    "- s의 인덱스 밖을 참조하므로 에러\n",
    "- 또한 s[]안에는 튜플이 아닌 int가 들어가야 한다.\n",
    "\n",
    "④ print s[1:-1]\n",
    "- s의 인덱스 1인 y부터, 인덱스 -1인 n의 앞인 o까지 출력한다.\n",
    "\n",
    "⑤ print s[3:-3]\n",
    "- s[3]은 h이고, s[-3]도 h이다. s[3:-3]은 h부터 h하나 앞인 t까지 출력해야 하는데 t가 h보다 앞에 있으므로 아무것도 출력되지 않는다.\n",
    "- 만약 s[4:-3] 또는 s[3:-3]등을 하면 마찬가지로 아무것도 출력되지 않는다.\n",
    "- 만약 s[2:-3]을 하면 t부터 t까지 출력하므로 t가 출력된다.\n",
    "\n",
    "마지막 출력이 공백이라 보이지 않으므로, 공백이 제대로 출력되었는지 확인하기 위하여 마지막에 \"End\"를 출력하였다."
   ]
  },
  {
   "cell_type": "code",
   "execution_count": 5,
   "metadata": {
    "collapsed": true
   },
   "outputs": [
    {
     "name": "stdout",
     "output_type": "stream",
     "text": [
      "1\n",
      "3\n",
      "5\n",
      "7\n",
      "9\n",
      "11\n",
      "13\n",
      "15\n",
      "17\n",
      "19\n",
      "21\n",
      "23\n",
      "25\n",
      "27\n",
      "29\n",
      "31\n",
      "33\n",
      "35\n",
      "37\n",
      "39\n",
      "41\n",
      "43\n",
      "45\n",
      "47\n",
      "49\n",
      "51\n",
      "53\n",
      "55\n",
      "57\n",
      "59\n",
      "61\n",
      "63\n",
      "65\n",
      "67\n",
      "69\n",
      "71\n",
      "73\n",
      "75\n",
      "77\n",
      "79\n",
      "81\n",
      "83\n",
      "85\n",
      "87\n",
      "89\n",
      "91\n",
      "93\n",
      "95\n",
      "97\n",
      "99\n"
     ]
    }
   ],
   "source": [
    "for i in range(100) :\n",
    "    if (i+1) % 2 == 0 :\n",
    "        print i"
   ]
  },
  {
   "cell_type": "markdown",
   "metadata": {},
   "source": [
    "range(100)은 0부터 99까지의 숫자를 가진 리스트이다. i가 0부터 99일때 까지 for문을 반복한다. i % 2 는 i를 2로 나누었을 때의 나머지를 반환한다. 따라서 i%2가 1이면 홀수이다. \n",
    "\n",
    "range(100)인 0부터 99까지에는 1부터 100까지의 홀수가 모두 있으므로 range(100)으로 반복해도 되지만, 1부터 100까지를 검사하기 위해서 (i+1) % 2 연산으로 검사하였다."
   ]
  },
  {
   "cell_type": "code",
   "execution_count": 2,
   "metadata": {
    "collapsed": false,
    "scrolled": true
   },
   "outputs": [
    {
     "name": "stdout",
     "output_type": "stream",
     "text": [
      "2550\n"
     ]
    }
   ],
   "source": [
    "sum = 0 #sum을 0으로 초기화\n",
    "count = 1;\n",
    "while count <= 100 :\n",
    "    if count % 2 == 0 :\n",
    "        sum += count\n",
    "    count += 1\n",
    "print sum"
   ]
  },
  {
   "cell_type": "markdown",
   "metadata": {},
   "source": [
    "sum을 0으로 초기화하고, while문을 100번 돌리는데에 사용할 변수인 count에 초기값으로 1을 넣는다. count가 100이하일 때 반복하는 while문을 작성한다. count를 2로 나눈 나머지가 0일 때, 즉 짝수일 때 sum에 count를 더한다. if문을 나가고 whilea문이 끝나기 전에 count를 1 증가시킨다. 마지막으로 sum을 출력한다."
   ]
  },
  {
   "cell_type": "code",
   "execution_count": 4,
   "metadata": {
    "collapsed": false,
    "scrolled": true
   },
   "outputs": [
    {
     "name": "stdout",
     "output_type": "stream",
     "text": [
      "Enter Integer : 12345\n",
      "54321\n"
     ]
    }
   ],
   "source": [
    "strInt = raw_input(\"Enter Integer : \")\n",
    "print strInt[::-1]"
   ]
  },
  {
   "cell_type": "markdown",
   "metadata": {},
   "source": [
    "integer를 string으로 입력받아 저장한다. 저장된 문자열을 슬라이싱을 이용하여 역으로 출력한다"
   ]
  },
  {
   "cell_type": "code",
   "execution_count": 15,
   "metadata": {
    "collapsed": false,
    "scrolled": false
   },
   "outputs": [
    {
     "name": "stdout",
     "output_type": "stream",
     "text": [
      "Enter Integer : 20\n",
      "2\n",
      "3\n",
      "5\n",
      "7\n",
      "11\n",
      "13\n",
      "17\n",
      "19\n"
     ]
    }
   ],
   "source": [
    "inputInt = input(\"Enter Integer : \")\n",
    "interInt = 3\n",
    "tempInt = 2\n",
    "isPrime = 1\n",
    "\n",
    "if inputInt < 2:\n",
    "    print \"Wrong input\"\n",
    "else :\n",
    "    print 2\n",
    "    while interInt < inputInt :\n",
    "            while tempInt < interInt :\n",
    "                if interInt % tempInt == 0:\n",
    "                    isPrime = 0\n",
    "                    break\n",
    "                else :\n",
    "                    tempInt += 1\n",
    "            if isPrime == 1 :\n",
    "                print interInt\n",
    "            interInt += 1\n",
    "            tempInt = 2\n",
    "            isPrime = 1"
   ]
  },
  {
   "cell_type": "markdown",
   "metadata": {},
   "source": [
    "inputInt에 정수를 입력받아 저장한다.\n",
    "interInt는 입력받은 정수이하의 정수들을 하나씩 탐색하기 위해 사용한다.\n",
    "tempInt는 interInt가 소수인지 아닌지를 검사하기 위해 사용한다.\n",
    "isPrime은 interInt가 소수이면 1을 아니면 0을 가진다. 초기값으로 1을 지정한다.\n",
    "\n",
    "입력받은 정수가 2보다 작을경우 오류메세지를 출력한다.\n",
    "2이상일 경우 2를 우선 출력한다.\n",
    "interInt가 2부터 입력받은 정수일 때 까지 while문을 반복한다.\n",
    "while문 내에서는 interInt를 tempInt로 나눈다. tempInt로 나눈 값이 나누어 떨어지면 소수가 아니므로 isPrime을 0으로 바꾸고 다음 interInt에대해 탐색한다."
   ]
  },
  {
   "cell_type": "code",
   "execution_count": 21,
   "metadata": {
    "collapsed": false
   },
   "outputs": [
    {
     "name": "stdout",
     "output_type": "stream",
     "text": [
      "233168\n"
     ]
    }
   ],
   "source": [
    "#프로젝트오일러_01\n",
    "#1000보다 작은 자연수 중 3또는 5의 배수를 모두 더한 값 출력\n",
    "sum = 0\n",
    "for i in range(1,1000) :\n",
    "    if ((i % 3 == 0) or (i % 5 == 0)) :\n",
    "        sum += i\n",
    "print sum"
   ]
  },
  {
   "cell_type": "markdown",
   "metadata": {},
   "source": [
    "sum을 0으로 초기화하고, i가 1부터 9999가 될 때까지 반복한다. 만약 i가 3으로 나누어 떨어지가나 5로 나누어 떨어지면 sum에 i를 더한다."
   ]
  },
  {
   "cell_type": "code",
   "execution_count": 25,
   "metadata": {
    "collapsed": false
   },
   "outputs": [
    {
     "name": "stdout",
     "output_type": "stream",
     "text": [
      "4613732\n"
     ]
    }
   ],
   "source": [
    "#프로젝트오일러_02\n",
    "#피보나치 수열에서, 짝수이면서 4백만 이하인 모든 항을 더한 값 출력\n",
    "pib_1 = 1\n",
    "pib_2 = 2\n",
    "nextPib = pib_1 + pib_2\n",
    "sum = pib_2\n",
    "while nextPib < 4000000 :\n",
    "    if nextPib % 2 == 0 :\n",
    "        sum += nextPib\n",
    "    pib_1 = pib_2\n",
    "    pib_2 = nextPib\n",
    "    nextPib = pib_1 + pib_2\n",
    "print sum"
   ]
  },
  {
   "cell_type": "markdown",
   "metadata": {},
   "source": [
    "첫번째 피보나치수는 1, 두번째는 2로 정의하고, 다음 피보나치 수에는 pib_1과 pib_2의 합을 넣는다.\n",
    "nextPib가 4백만 이하일 때 까지 nextPib가 짝수이면 sum에 nextPib를 더하고 pib_1에는 pib_2를 pib_2에는 nexPib를 nextPib에는 pib_1과 pib_2의 합을 넣는다.\n",
    "반복이 끝나면 sum을 출력한다"
   ]
  },
  {
   "cell_type": "code",
   "execution_count": 90,
   "metadata": {
    "collapsed": false
   },
   "outputs": [
    {
     "name": "stdout",
     "output_type": "stream",
     "text": [
      "[2, 7, 14, 17, 23, 34, 46, 119, 161, 238, 322, 391, 782, 2737, 5474, 10976461L, 21952922L, 76835227L, 153670454L, 186599837L, 252458603L, 373199674L, 504917206L, 1306198859L, 1767210221L, 2612397718L, 3534420442L, 4291796251L, 8583592502L, 30042573757L]\n"
     ]
    },
    {
     "ename": "OverflowError",
     "evalue": "range() result has too many items",
     "output_type": "error",
     "traceback": [
      "\u001b[1;31m---------------------------------------------------------------------------\u001b[0m",
      "\u001b[1;31mOverflowError\u001b[0m                             Traceback (most recent call last)",
      "\u001b[1;32m<ipython-input-90-b015b5988aaa>\u001b[0m in \u001b[0;36m<module>\u001b[1;34m()\u001b[0m\n\u001b[0;32m     26\u001b[0m \u001b[1;32mfor\u001b[0m \u001b[0mi\u001b[0m \u001b[1;32min\u001b[0m \u001b[0mrange\u001b[0m\u001b[1;33m(\u001b[0m\u001b[1;36m0\u001b[0m\u001b[1;33m,\u001b[0m\u001b[0mlenOfDivisor\u001b[0m\u001b[1;33m)\u001b[0m \u001b[1;33m:\u001b[0m\u001b[1;33m\u001b[0m\u001b[0m\n\u001b[0;32m     27\u001b[0m     \u001b[0mmax\u001b[0m \u001b[1;33m=\u001b[0m \u001b[0mdivisor\u001b[0m\u001b[1;33m[\u001b[0m\u001b[0mlenOfDivisor\u001b[0m\u001b[1;33m-\u001b[0m\u001b[0mi\u001b[0m\u001b[1;33m-\u001b[0m\u001b[1;36m1\u001b[0m\u001b[1;33m]\u001b[0m\u001b[1;33m\u001b[0m\u001b[0m\n\u001b[1;32m---> 28\u001b[1;33m     \u001b[1;32mfor\u001b[0m \u001b[0mj\u001b[0m \u001b[1;32min\u001b[0m \u001b[0mrange\u001b[0m\u001b[1;33m(\u001b[0m\u001b[1;36m2\u001b[0m\u001b[1;33m,\u001b[0m\u001b[0mmax\u001b[0m\u001b[1;33m)\u001b[0m \u001b[1;33m:\u001b[0m\u001b[1;33m\u001b[0m\u001b[0m\n\u001b[0m\u001b[0;32m     29\u001b[0m         \u001b[1;32mif\u001b[0m \u001b[0mmax\u001b[0m \u001b[1;33m%\u001b[0m \u001b[0mj\u001b[0m \u001b[1;33m==\u001b[0m \u001b[1;36m0\u001b[0m \u001b[1;33m:\u001b[0m\u001b[1;33m\u001b[0m\u001b[0m\n\u001b[0;32m     30\u001b[0m             \u001b[0misPrime\u001b[0m \u001b[1;33m=\u001b[0m \u001b[1;36m0\u001b[0m\u001b[1;33m\u001b[0m\u001b[0m\n",
      "\u001b[1;31mOverflowError\u001b[0m: range() result has too many items"
     ]
    }
   ],
   "source": [
    "#프로젝트오일러_03\n",
    "#600851475143의 소인수 중에서 가장 큰 수를 구하여라\n",
    "integer = 600851475143\n",
    "divisor = []\n",
    "mindivisor = 2\n",
    "true = 1\n",
    "lenOfDivisor = 0\n",
    "isPrime = 1\n",
    "while true :\n",
    "    if integer % mindivisor == 0 :\n",
    "        divisor.append(mindivisor)\n",
    "        max = integer / mindivisor\n",
    "        if mindivisor != max :\n",
    "            divisor.append(max)\n",
    "    mindivisor += 1\n",
    "    if max <= mindivisor :\n",
    "        true = 0\n",
    "    count += 1\n",
    "divisor.sort()\n",
    "print divisor\n",
    "lenOfDivisor = len(divisor)\n",
    "max = 0\n",
    "for i in range(0,lenOfDivisor) :\n",
    "    max = divisor[lenOfDivisor-i-1]\n",
    "    for j in range(2,max) :\n",
    "        if max % j == 0 :\n",
    "            isPrime = 0\n",
    "            break\n",
    "    if isPrime == 1:\n",
    "        print max\n",
    "        break\n",
    "    else :\n",
    "        max = divisor[lenOfDivisor-i-2]\n",
    "        isPrime = 1\n"
   ]
  }
 ],
 "metadata": {
  "kernelspec": {
   "display_name": "Python 2",
   "language": "python",
   "name": "python2"
  },
  "language_info": {
   "codemirror_mode": {
    "name": "ipython",
    "version": 2
   },
   "file_extension": ".py",
   "mimetype": "text/x-python",
   "name": "python",
   "nbconvert_exporter": "python",
   "pygments_lexer": "ipython2",
   "version": "2.7.9"
  }
 },
 "nbformat": 4,
 "nbformat_minor": 0
}
