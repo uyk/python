{
 "cells": [
  {
   "cell_type": "markdown",
   "metadata": {},
   "source": [
    "# Script Programming\n",
    "##Assignment 02"
   ]
  },
  {
   "cell_type": "markdown",
   "metadata": {},
   "source": [
    "###1.  and, or"
   ]
  },
  {
   "cell_type": "code",
   "execution_count": 1,
   "metadata": {
    "collapsed": false
   },
   "outputs": [
    {
     "name": "stdout",
     "output_type": "stream",
     "text": [
      "4\n",
      "1\n",
      "2\n",
      "2\n",
      "1\n",
      "3\n"
     ]
    }
   ],
   "source": [
    "# -*- coding: utf-8 -*-\n",
    "#아래 연산의 결과값을 출력하고 결과에 대한 이유를 설명하라.\n",
    "print 1 and 2 and 3 and 4\n",
    "print 1 or 2 or 3 or 4\n",
    "print 1 and 2 or 3 and 4\n",
    "print (1 and 2) or (3 and 4)\n",
    "print 1 or 2 and 3 or 4\n",
    "print (1 or 2) and (3 or 4)"
   ]
  },
  {
   "cell_type": "markdown",
   "metadata": {},
   "source": [
    "and 와 or 는 앞에서 부터 차례로 검사하여 뒤를 검사할 필요가 없으면 검사하지 않는다. 그리고 and 와 or 자체가 특정 값을 반환하는 것이 아니라 피연산자를 반환한다.\n",
    "\n",
    "* 첫번째 문장을 보면 and연산이고 1이므로 차례로 뒤에까지 검사하고, 마지막 피연산자인 4역시 참이므로 4를 반환한다.  \n",
    "* 두번째 문장을 보면 or연산이고 1이므로 뒤를 검사할 필요가 없으므로 1을 반환한다.  \n",
    "* 세번째 문장을 보면 and연산이고 1이므로 2를 검사하고, 2 역시 참이므로 뒤를 검사하는데 뒤 연산자가 or이므로 더이상 검사할 필요가 없어 2를 반환한다.  \n",
    "* 네번째 문장을 보면 (1and2)에서 2를 반환하는데 뒤 연산이 or이므로 뒤를 검사하지 않고 2를 반환한다.  \n",
    "* 다섯번째 문장을 보면 1 or 이므로 뒤를 검사할 필요가 없어 1을 반환한다.  \n",
    "* 여섯번째 문장을 보면 (1 or 2)에서 2를 반환하고, and 이므로 뒤도 검사한다. (3 or 4)에서 4를 검사할 필요가 없어 3을 반환한다."
   ]
  },
  {
   "cell_type": "markdown",
   "metadata": {},
   "source": [
    "###2. 비트연산자를 이용한 부호 판별"
   ]
  },
  {
   "cell_type": "code",
   "execution_count": 2,
   "metadata": {
    "collapsed": false
   },
   "outputs": [
    {
     "name": "stdout",
     "output_type": "stream",
     "text": [
      "정수를 입력하시오 : -11\n",
      "음수\n"
     ]
    }
   ],
   "source": [
    "# -*- coding: utf-8 -*-\n",
    "#키보드로 정수값을 입력 받고 그 값이 양수인지 음수인지를\n",
    "#비트연산자를 이용하여 판단하는 프로그램을 작성하라.\n",
    "\n",
    "def inTobin(num) :   #정수를 2의보수의 string으로 바꿈\n",
    "    s = \"\"\n",
    "    mask = 1 << (31)\n",
    "    for i in range(1,33) :\n",
    "        if (num&mask): s += '1'\n",
    "        else : s += '0'\n",
    "        num <<= 1      #num = num << 1  #num*2**1와 동일 #\n",
    "        if (i % 8 == 0): s += \" \"\n",
    "    return s\n",
    "    \n",
    "num = input(u\"정수를 입력하시오 : \")\n",
    "convertedNum = inTobin(num)\n",
    "if convertedNum[0] :    #부호비트가 1이면 음수\n",
    "    print u'음수'\n",
    "else :                  #부호비트가 0이면 양수\n",
    "    print u'양수'"
   ]
  },
  {
   "cell_type": "markdown",
   "metadata": {},
   "source": [
    "정수를 2의보수로 바꾸어 문자열객체로 반환하는 함수 inTobin을 작성한다. 입력받은 정수를 작성한 함수를 통해 2의보수의 문자열로 바꾸고, 바꾼 2의 보수형태에서 부호비트를 검사하여 1이면 음수, 0이면 양수로 판단한다."
   ]
  },
  {
   "cell_type": "markdown",
   "metadata": {},
   "source": [
    "###3. div_path()"
   ]
  },
  {
   "cell_type": "code",
   "execution_count": 3,
   "metadata": {
    "collapsed": false,
    "scrolled": true
   },
   "outputs": [
    {
     "name": "stdout",
     "output_type": "stream",
     "text": [
      "Enter path : /usr/local/bin/python\n",
      "['/usr/local/bin', 'python']\n"
     ]
    }
   ],
   "source": [
    "def div_path(s) :\n",
    "    l = [\"path\",\"name\"]\n",
    "    tempList = s.split('/')\n",
    "    l[1] = tempList.pop()\n",
    "    l[0] = '/'.join(tempList)\n",
    "    return l\n",
    "\n",
    "s = raw_input(\"Enter path : \")\n",
    "print div_path(s)"
   ]
  },
  {
   "cell_type": "markdown",
   "metadata": {},
   "source": [
    "s를 인자로 갖는 함수 div_path를 정의한다. 처음 리스트 l은 두개의 인자를 가지고 있다. 이는 곧 치환될 것이다. tempList에는 s를 '/'를 기준으로 분할한 리스트를 넣는다. pop함수로 tempList의 마지막 원소를 l[1]로 빼내면서 tempList에서 제거한다. tempList의 남은 원소를 l[0]에 '/'로 합쳐서 넣는다.  \n",
    "path를 s에 입력받아 div_path(s)를 출력한다.  \n",
    "l.append()를 이용하여 l함수에 리스트를 추가할 수 있지만, l의 요소의 갯수가 처음부터 2개(경로,파일이름)으로 정해져 있다는 점에서 append함수를 쓰지않고 작성하였다."
   ]
  },
  {
   "cell_type": "markdown",
   "metadata": {},
   "source": [
    "###4. 합집합"
   ]
  },
  {
   "cell_type": "code",
   "execution_count": 4,
   "metadata": {
    "collapsed": false
   },
   "outputs": [
    {
     "name": "stdout",
     "output_type": "stream",
     "text": [
      "[-10, -5, -1, 0, 9, 100]\n"
     ]
    }
   ],
   "source": [
    "# -*- coding: utf-8 -*-\n",
    "#두개의 리스트를 인자로 받아서 그 두개의 리스트에대한 '합집합'을 반환하는 함수 \n",
    "#list_union(lista,listb)를 작성하라.\n",
    "def list_union(lista, listb) :\n",
    "    l = lista\n",
    "    for i in listb :\n",
    "        if i not in l :\n",
    "            l.append(i)\n",
    "    l.sort()\n",
    "    return l\n",
    "print list_union([-10, -5, 0, -1,100], [100, 9, 0, 9])"
   ]
  },
  {
   "cell_type": "markdown",
   "metadata": {},
   "source": [
    "lista와 listb를 인자로 갖는 함수 list_union을 정의한다. 먼저 새로운 리스트 l에 lista의 내용을 넣는다. listb의 모든 원소에 대해 원소가 l에 없는 원소일 경우 l에 원소를 추가한다. 마지막으로 l을 정렬하고 반환한다."
   ]
  },
  {
   "cell_type": "markdown",
   "metadata": {},
   "source": [
    "###5. 프로젝트 오일러 04"
   ]
  },
  {
   "cell_type": "code",
   "execution_count": 5,
   "metadata": {
    "collapsed": false
   },
   "outputs": [
    {
     "name": "stdout",
     "output_type": "stream",
     "text": [
      "90909\n"
     ]
    }
   ],
   "source": [
    "# -*- coding: utf8 -*-\n",
    "#프로젝트오일러_04\n",
    "#세 자리 수를 곱해 만들 수 있는 가장 큰 대칭수는 얼마인가\n",
    "factor1 = 999\n",
    "factor2 = 999\n",
    "bigInt = 0\n",
    "while factor2 :\n",
    "    tempInt = factor1 * factor2\n",
    "    strInt = str(tempInt)           #strInt : tempInt를 문자열로 변경한 값\n",
    "    if strInt == strInt[::-1]:      #strInt가 대칭수인지 검사\n",
    "        if bigInt < tempInt :\n",
    "            bigInt = tempInt\n",
    "    if factor1 > 1 :\n",
    "        factor1 -= 1\n",
    "    else :\n",
    "        factor2 -= 1\n",
    "print bigInt"
   ]
  },
  {
   "cell_type": "markdown",
   "metadata": {},
   "source": [
    "factor1과 factor2에는 세자리 수 중 가장 큰 수인 999를 넣는다. factor1 * factor2의 결과값을 str()함수로 문자열객체로 바꾸어 저장한다. 슬라이싱을 통해 대칭수인지 검사하여 대칭수이면 bigInt에 넣는다. 이를 반복하여 기존의 bigInt보다 새로운 대칭수가 더 크면 bigInt에 새로운 대칭수를 넣는다. 마지막으로 bigInt를 출력한다."
   ]
  },
  {
   "cell_type": "markdown",
   "metadata": {},
   "source": [
    "###6. 프로젝트 오일러 05"
   ]
  },
  {
   "cell_type": "code",
   "execution_count": 6,
   "metadata": {
    "collapsed": false
   },
   "outputs": [
    {
     "name": "stdout",
     "output_type": "stream",
     "text": [
      "[[2], [3], [2, 2], [5], [2, 3], [7], [2, 2, 2], [3, 3], [2, 5], [11], [2, 2, 3], [13], [2, 7], [3, 5], [2, 2, 2, 2], [17], [2, 3, 3], [19], [2, 2, 5]]\n",
      "{2: 0, 3: 0, 5: 0, 7: 0, 11: 0, 13: 0, 17: 0, 19: 0}\n",
      "{2: 4, 3: 2, 5: 1, 7: 1, 11: 1, 13: 1, 17: 1, 19: 1}\n",
      "\n",
      "232792560\n"
     ]
    }
   ],
   "source": [
    "# -*- coding: utf8 -*-\n",
    "#프로젝트오일러_05\n",
    "#1 ~ 20 사이의 어떤 수로도 나누어 떨어지는 가장 작은 수는 얼마입니까?\n",
    "prime = {}      #소인수들이 들어갈 딕셔너리\n",
    "doubleList = [] #20이하의 수들을 소인수 분해하여 저장할 중첩 리스트\n",
    "y = 2\n",
    "result = 1      #결과를 저장할 변수\n",
    "\n",
    "#2부터 20까지의 수에 대해 각각 소인수분해\n",
    "for x in range(2,21) :\n",
    "    templist = []\n",
    "    while y <= x:\n",
    "        if x % y == 0 :\n",
    "            templist.append(y)\n",
    "            x = x / y\n",
    "            if y not in prime.keys() :\n",
    "                prime[y] = 0\n",
    "        else :\n",
    "            y += 1\n",
    "    y = 2\n",
    "    doubleList.append(templist)\n",
    "print doubleList\n",
    "print prime\n",
    "primeList = prime.keys()    #prime의 키값들(소인수들)을 리스트에 저장\n",
    "\n",
    "#각 소인수가 몇개 사용되었는지 검사\n",
    "for l in doubleList :       #소인수 분해 된 수들을 검사\n",
    "    for x in primeList :    #각 소인수가 몇개 들었는지 검사\n",
    "        if prime[x] < l.count(x) :  #소인수가 많이 사용된 수의 소인수의 갯수를 저장\n",
    "            prime[x] = l.count(x)\n",
    "print prime\n",
    "#결과 값 계산\n",
    "result = 1\n",
    "for x in primeList:\n",
    "    result *= x**prime[x]\n",
    "print\n",
    "print result"
   ]
  },
  {
   "cell_type": "markdown",
   "metadata": {},
   "source": [
    "2부터 20까지의 수를 소인수분해하여 각각의 리스트에 저장한 후 doubleList에 각각의 리스트를 저장한다. doubleList는 중첩리스트가 된다. 예를들어, 처음에는 2를 소인수분해 한 리스트 [2]가 생성되고 doubleList에 [2]가 저장되어 doubleList는 [[2]]가 된다. 다음으로 3을 인수분해하면 doubleList는[[2],[3]]이 된다. 20까지 반복한다.\n",
    "\n",
    "각 수를 소인수분해할 때, 처음보는 소인수가 나오면 딕셔너리prime에 키값으로 저장한다. 벨류는 0으로 초기화한다.\n",
    "\n",
    "20까지의 반복이 끝나면 primeList라는 리스트를 만들어 prime의 키값을 저장한다. 즉 20까지의 소인수들이 들어가게 된다.\n",
    "\n",
    "doubleList의 각 요소들을 검사하여 각 소인수들이 몇번 사용되었는지 검사한다. 각 소인수에 대하여, 한 요소에서 많이 사용되었을 때의 갯수를 딕셔너리prime의 벨류값에 저장한다. \n",
    "\n",
    "결과값은 각 소인수들의 사용된 갯수의 제곱만큼을 곱하여 계산한다."
   ]
  },
  {
   "cell_type": "markdown",
   "metadata": {},
   "source": [
    "###7. 프로젝트 오일러 06"
   ]
  },
  {
   "cell_type": "code",
   "execution_count": 7,
   "metadata": {
    "collapsed": false,
    "scrolled": true
   },
   "outputs": [
    {
     "name": "stdout",
     "output_type": "stream",
     "text": [
      "25164150\n"
     ]
    }
   ],
   "source": [
    "# -*- coding: utf8 -*-\n",
    "#프로젝트오일러_06\n",
    "#1 ~ 100까지 자연수에 대해 \"합의제곱\"과 \"제곱의 합\"차이 구하기\n",
    "result1 = 0     #제곱의 합\n",
    "result2 = 0     #합의 제곱\n",
    "\n",
    "for x in range(1,101) :\n",
    "    result1 += x*x      #각 수의 제곱을 더함\n",
    "    result2 += x        #각 수를 더함\n",
    "result2 *= result2      #각 수를 더한것을 제곱함\n",
    "print result2 - result1"
   ]
  },
  {
   "cell_type": "markdown",
   "metadata": {},
   "source": [
    "x가 1부터 100일 때 까지 반복문을 돌리면서, result1에는 x * x 한 값을 계속하여 더하고, result2에는 x의 값을 계속하여 더한다.\n",
    "반복이 끝나면 result2를 제곱한다.\n",
    "이후 result1에는 제곱의 합이, result2에는 합의 제곱이 들어가있다.\n",
    "이 둘의 차를 구하여 출력한다."
   ]
  },
  {
   "cell_type": "markdown",
   "metadata": {},
   "source": [
    "###8. Incremental Project"
   ]
  },
  {
   "cell_type": "code",
   "execution_count": 8,
   "metadata": {
    "collapsed": false
   },
   "outputs": [
    {
     "name": "stdout",
     "output_type": "stream",
     "text": [
      "Number of words : 451\n"
     ]
    }
   ],
   "source": [
    "# -*- coding: utf-8 -*-\n",
    "# 웹 URL로 지정된 웹페이지를 문자열로 가져와서\n",
    "# 1) 모든 HTML 태그를 제외한 순수 텍스트 문자열만을 걸러내고,\n",
    "# 2) 그 순수 텍스트 문자열 안에 존재하는 단어가 총 몇개인지 출력하는 프로그램을 작성하시오.\n",
    "import urllib2\n",
    "source = urllib2.urlopen(\"http://cse.kut.ac.kr/\").read()\n",
    "#print source # 추후 숙제 답안 제출 때엔 왼쪽 라인은 주석처리할 것\n",
    "\n",
    "tempString = \"\"     # '<' 와 '>'사이의 문자를 제거한 문자열이 들어감\n",
    "index = 0\n",
    "while(1) :\n",
    "    while source[index] == '<' :        # '<'문자가 나오면\n",
    "        index += 1                      #다음 인덱스로 이동\n",
    "        while source[index] != '>' :    # '>'문자가 나올 때 까지\n",
    "            index += 1                  # index 1증가\n",
    "        index += 1              # index가 '>'를 가리키고 있으므로 다음 인덱스로 이동\n",
    "    tempString += source[index] #index자리의 문자를 tempString에 저장\n",
    "    index += 1\n",
    "    if index == len(source) :   #source의 모든 원소를 탐색했을시 while문 중지\n",
    "        break\n",
    "wordList = tempString.split()   #리스트에 tempString의 공백으로 분류하여 저장(공백은 제거됨)\n",
    "\n",
    "#wordList의 원소를 출력하는 반복문. 모든 원소가 잘 들어간 것을 확인할 수 있음. 속도가 느려서 주석처리함\n",
    "#for i in wordList :\n",
    "#    print unicode(i,'utf-8'),\n",
    "\n",
    "print 'Number of words :', len(wordList)"
   ]
  },
  {
   "cell_type": "markdown",
   "metadata": {},
   "source": [
    "* 문제에서 제공된 소스를 이용하여 urㅣ을 불러와 문자열형태로 source에 저장한다.  \n",
    "* 반복문을 사용하여 source의 내용을 검색한다. source[index]가 '<'일 경우 '>'가 나올 때 까지 index를 증가시키며, '<'가 아닌 다른 문자가 나올 때 까지 이를 반복한다. 다른 문자가 나오면 문자열 레퍼런스인 tempString에 추가한다. source의 모든 원소를 검색할 때 까지 반복한다. 이를 통해 tempString에는 HTML태그가 제거된 문자열이 들어간다.  \n",
    "* split()함수를 이용해 tempString의 공백을 제거하면서 공백을 기준으로 문자열을 분리하여 wordList에 넣는다. 즉 순수 텍스트를 단어로 분리한 것과 같다.  \n",
    "len(wordList)로 List의 원소의 갯수, 즉 단어의 갯수를 출력한다.  \n",
    "\n",
    "순수한 단어가 들어갔는지 wordList의 내용을 unicode(i,'utf-8')로 출력하여 확인할 수 있지만, 시간을 소요하므로 주석처리하였다."
   ]
  },
  {
   "cell_type": "markdown",
   "metadata": {},
   "source": [
    "### 소감\n",
    "프로젝트 오일러문제는 푸는 기록이 남으니 성취감이 생기는 것 같다. 마지막 프로젝트는 처음 접했을 때는 어려워 보였으나 배웠던 함수를 이용하여 의외로 쉽게 해결할 수 있었다. 비트연산자가 제일 어려웠다. "
   ]
  }
 ],
 "metadata": {
  "kernelspec": {
   "display_name": "Python 2",
   "language": "python",
   "name": "python2"
  },
  "language_info": {
   "codemirror_mode": {
    "name": "ipython",
    "version": 2
   },
   "file_extension": ".py",
   "mimetype": "text/x-python",
   "name": "python",
   "nbconvert_exporter": "python",
   "pygments_lexer": "ipython2",
   "version": "2.7.9"
  }
 },
 "nbformat": 4,
 "nbformat_minor": 0
}
