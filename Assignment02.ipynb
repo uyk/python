{
 "cells": [
  {
   "cell_type": "markdown",
   "metadata": {},
   "source": [
    "# Script Programming\n",
    "##Assignment 02"
   ]
  },
  {
   "cell_type": "markdown",
   "metadata": {},
   "source": [
    "###6. 프로젝트 오일러 04"
   ]
  },
  {
   "cell_type": "code",
   "execution_count": 1,
   "metadata": {
    "collapsed": false
   },
   "outputs": [
    {
     "name": "stdout",
     "output_type": "stream",
     "text": [
      "90909\n"
     ]
    }
   ],
   "source": [
    "# -*- coding: utf8 -*-\n",
    "#프로젝트오일러_04\n",
    "#세 자리 수를 곱해 만들 수 있는 가장 큰 대칭수는 얼마인가\n",
    "factor1 = 999\n",
    "factor2 = 999\n",
    "bigInt = 0\n",
    "while factor2 :\n",
    "    tempInt = factor1 * factor2\n",
    "    strInt = str(tempInt)           #strInt : tempInt를 문자열로 변경한 값\n",
    "    if strInt == strInt[::-1]:      #strInt가 대칭수인지 검사\n",
    "        if bigInt < tempInt :\n",
    "            bigInt = tempInt\n",
    "    if factor1 > 1 :\n",
    "        factor1 -= 1\n",
    "    else :\n",
    "        factor2 -= 1\n",
    "print bigInt"
   ]
  },
  {
   "cell_type": "markdown",
   "metadata": {},
   "source": [
    "factor1과 factor2에는 세자리 수 중 가장 큰 수인 999를 넣는다. factor1 * factor2의 결과값을 str()함수로 문자열객체로 바꾸어 저장한다. 슬라이싱을 통해 대칭수인지 검사하여 대칭수이면 bigInt에 넣는다. 이를 반복하여 기존의 bigInt보다 새로운 대칭수가 더 크면 bigInt에 새로운 대칭수를 넣는다. 마지막으로 bigInt를 출력한다."
   ]
  },
  {
   "cell_type": "markdown",
   "metadata": {},
   "source": [
    "###7. 프로젝트 오일러 05"
   ]
  },
  {
   "cell_type": "code",
   "execution_count": 4,
   "metadata": {
    "collapsed": false
   },
   "outputs": [
    {
     "name": "stdout",
     "output_type": "stream",
     "text": [
      "[[2], [3], [2, 2], [5], [2, 3], [7], [2, 2, 2], [3, 3], [2, 5], [11], [2, 2, 3], [13], [2, 7], [3, 5], [2, 2, 2, 2], [17], [2, 3, 3], [19], [2, 2, 5]]\n",
      "{2: 0, 3: 0, 5: 0, 7: 0, 11: 0, 13: 0, 17: 0, 19: 0}\n",
      "{2: 4, 3: 2, 5: 1, 7: 1, 11: 1, 13: 1, 17: 1, 19: 1}\n",
      "\n",
      "232792560\n"
     ]
    }
   ],
   "source": [
    "# -*- coding: utf8 -*-\n",
    "#프로젝트오일러_05\n",
    "#1 ~ 20 사이의 어떤 수로도 나누어 떨어지는 가장 작은 수는 얼마입니까?\n",
    "prime = {}      #소인수들이 들어갈 딕셔너리\n",
    "doubleList = [] #20이하의 수들을 소인수 분해하여 저장할 중첩 리스트\n",
    "y = 2\n",
    "result = 1      #결과를 저장할 변수\n",
    "\n",
    "#2부터 20까지의 수에 대해 각각 소인수분해\n",
    "for x in range(2,21) :\n",
    "    templist = []\n",
    "    while y <= x:\n",
    "        if x % y == 0 :\n",
    "            templist.append(y)\n",
    "            x = x / y\n",
    "            if y not in prime.keys() :\n",
    "                prime[y] = 0\n",
    "        else :\n",
    "            y += 1\n",
    "    y = 2\n",
    "    doubleList.append(templist)\n",
    "print doubleList\n",
    "print prime\n",
    "primeList = prime.keys()    #prime의 키값들(소인수들)을 리스트에 저장\n",
    "\n",
    "#각 소인수가 몇개 사용되었는지 검사\n",
    "for l in doubleList :       #소인수 분해 된 수들을 검사\n",
    "    for x in primeList :    #각 소인수가 몇개 들었는지 검사\n",
    "        if prime[x] < l.count(x) :  #소인수가 많이 사용된 수의 소인수의 갯수를 저장\n",
    "            prime[x] = l.count(x)\n",
    "print prime\n",
    "#결과 값 계산\n",
    "result = 1\n",
    "for x in primeList:\n",
    "    result *= x**prime[x]\n",
    "print\n",
    "print result"
   ]
  },
  {
   "cell_type": "markdown",
   "metadata": {},
   "source": [
    "2부터 20까지의 수를 소인수분해하여 각각의 리스트에 저장한 후 doubleList에 각각의 리스트를 저장한다. doubleList는 중첩리스트가 된다. 예를들어, 처음에는 2를 소인수분해 한 리스트 [2]가 생성되고 doubleList에 [2]가 저장되어 doubleList는 [[2]]가 된다. 다음으로 3을 인수분해하면 doubleList는[[2],[3]]이 된다. 20까지 반복한다.\n",
    "\n",
    "각 수를 소인수분해할 때, 처음보는 소인수가 나오면 딕셔너리prime에 키값으로 저장한다. 벨류는 0으로 초기화한다.\n",
    "\n",
    "20까지의 반복이 끝나면 primeList라는 리스트를 만들어 prime의 키값을 저장한다. 즉 20까지의 소인수들이 들어가게 된다.\n",
    "\n",
    "doubleList의 각 요소들을 검사하여 각 소인수들이 몇번 사용되었는지 검사한다. 각 소인수에 대하여, 한 요소에서 많이 사용되었을 때의 갯수를 딕셔너리prime의 벨류값에 저장한다. \n",
    "\n",
    "결과값은 각 소인수들의 사용된 갯수의 제곱만큼을 곱하여 계산한다."
   ]
  },
  {
   "cell_type": "markdown",
   "metadata": {},
   "source": [
    "###8. 프로젝트 오일러 06"
   ]
  },
  {
   "cell_type": "code",
   "execution_count": 5,
   "metadata": {
    "collapsed": false
   },
   "outputs": [
    {
     "name": "stdout",
     "output_type": "stream",
     "text": [
      "25164150\n"
     ]
    }
   ],
   "source": [
    "# -*- coding: utf8 -*-\n",
    "#프로젝트오일러_06\n",
    "#1 ~ 100까지 자연수에 대해 \"합의제곱\"과 \"제곱의 합\"차이 구하기\n",
    "result1 = 0     #제곱의 합\n",
    "result2 = 0     #합의 제곱\n",
    "\n",
    "for x in range(1,101) :\n",
    "    result1 += x*x      #각 수의 제곱을 더함\n",
    "    result2 += x        #각 수를 더함\n",
    "result2 *= result2      #각 수를 더한것을 제곱함\n",
    "print result2 - result1"
   ]
  },
  {
   "cell_type": "markdown",
   "metadata": {},
   "source": [
    "x가 1부터 100일 때 까지 반복문을 돌리면서, result1에는 x * x 한 값을 계속하여 더하고, result2에는 x의 값을 계속하여 더한다.\n",
    "반복이 끝나면 result2를 제곱한다.\n",
    "이후 result1에는 제곱의 합이, result2에는 합의 제곱이 들어가있다."
   ]
  }
 ],
 "metadata": {
  "kernelspec": {
   "display_name": "Python 2",
   "language": "python",
   "name": "python2"
  },
  "language_info": {
   "codemirror_mode": {
    "name": "ipython",
    "version": 2
   },
   "file_extension": ".py",
   "mimetype": "text/x-python",
   "name": "python",
   "nbconvert_exporter": "python",
   "pygments_lexer": "ipython2",
   "version": "2.7.9"
  }
 },
 "nbformat": 4,
 "nbformat_minor": 0
}
