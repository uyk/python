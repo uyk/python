{
 "cells": [
  {
   "cell_type": "markdown",
   "metadata": {},
   "source": [
    "# Script Programming\n",
    "##Assignment 05"
   ]
  },
  {
   "cell_type": "markdown",
   "metadata": {},
   "source": [
    "###01. 클래스 vs 모듈"
   ]
  },
  {
   "cell_type": "markdown",
   "metadata": {},
   "source": [
    "클래스와 모듈은 둘다 각각의 이름공간을 가진다는 공통점이있다. 하지만 모듈은 파일단위(.py)이고 클래스는 파일 내의 클래스 단위로 존재한다는 차이점이 있다."
   ]
  },
  {
   "cell_type": "markdown",
   "metadata": {},
   "source": [
    "###02. 다형성"
   ]
  },
  {
   "cell_type": "markdown",
   "metadata": {},
   "source": [
    "다형성이란 서로 다른 클래스의 객체들이 같은 함수의 호출에 대해 서로 다르게 작동하는 것을 말한다. 아래는 다형성을 보여주는 코드이다."
   ]
  },
  {
   "cell_type": "code",
   "execution_count": 1,
   "metadata": {
    "collapsed": false,
    "scrolled": true
   },
   "outputs": [
    {
     "name": "stdout",
     "output_type": "stream",
     "text": [
      "안녕하세요\n",
      "니하오\n",
      "오하요 고자이마스\n"
     ]
    }
   ],
   "source": [
    "class Asia() :\n",
    "    def hello(self) :\n",
    "        print '...'\n",
    "class Korea(Asia) :\n",
    "    def hello(self) :\n",
    "        print \"안녕하세요\"\n",
    "class China(Asia) :\n",
    "    def hello(self):\n",
    "        print \"니하오\"\n",
    "class Japan(Asia) :\n",
    "    def hello(self) :\n",
    "        print \"오하요 고자이마스\"\n",
    "for each in (Korea(),China(),Japan()) :\n",
    "    each.hello()"
   ]
  },
  {
   "cell_type": "markdown",
   "metadata": {},
   "source": [
    "###03. Counter 클래스"
   ]
  },
  {
   "cell_type": "code",
   "execution_count": 2,
   "metadata": {
    "collapsed": true
   },
   "outputs": [],
   "source": [
    "class Counter :\n",
    "    def __init__(self,count,step=1):\n",
    "        self.count = count\n",
    "        self.step = step\n",
    "    def __str__(self) :\n",
    "        return \"[Count (step: %d)] %d\" % (self.step, self.count)\n",
    "    def incr(self) :\n",
    "        self.count += self.step\n",
    "    def __call__(self) :\n",
    "        self.incr()\n",
    "    def __add__(self,other):\n",
    "        return self.count + other\n",
    "    def __sub__(self,other) :\n",
    "        return self.count - other\n",
    "    def __lf__(self,other) :\n",
    "        return self.count < y\n",
    "    def __gt__(self,other) :\n",
    "        return self.count > other\n",
    "    def __eq__(self,other) :\n",
    "        return self.count == other\n",
    "    def __ne__(self,other) :\n",
    "        return self.count != other"
   ]
  },
  {
   "cell_type": "markdown",
   "metadata": {},
   "source": [
    "###04. MySet 클래스"
   ]
  },
  {
   "cell_type": "markdown",
   "metadata": {},
   "source": [
    "* MySet클래스는 list를 상속받으므로 리스트의 속성을 가지고 있다.  \n",
    "* __init__(seltf,l) 함수는 생성자로 l의 각 요소를 자기자신(공리스트[])에 하나씩 저장하고 eliminame_duplicate(self)를 호출하여 중복되는 값을 없앤다. \n",
    "* __str__(self)함수는 인스턴스를 집합 형태의 틀 대로 문자열로 만들어 반환한다. \"MySet : {\"을 저장하는 문자열 객체 result를 만들고, result에 리스트의 각 요소를 문자열로 바꾼 것과 ' ,'를 추가로 러장한다. 모두 저장한 후에는 마지막 ' ,'를 빼고 '}'를 더한다.\n",
    "* eliminate_duplicate(l)함수는 정적메소드로 인스턴스가 없어도 클래스 이름을 통해 직접 호출이 가능하다. 함수 내부에서는 중복되는 값을 제거한 리스트를 임시로 저장할 객체 s를 공리스트로 선언한다. l의 원소가 s에 존재하지 않을 때만 s에 저장하여 중복된 값을 없애고, s의 값을 l에 하나씩 넣는다."
   ]
  },
  {
   "cell_type": "markdown",
   "metadata": {},
   "source": [
    "###05. MySet 클래스의 개선"
   ]
  },
  {
   "cell_type": "code",
   "execution_count": 3,
   "metadata": {
    "collapsed": true
   },
   "outputs": [],
   "source": [
    "#-*- coding: utf-8 -*-\n",
    "class MySet(list):\n",
    "    def __init__(self, l):\n",
    "        for e in l:\n",
    "            self.append(e)\n",
    "        MySet.eliminate_duplicate(self)\n",
    "    \n",
    "    def __str__(self):\n",
    "        result = \"MySet: {\"\n",
    "        for e in self:\n",
    "            result = result + str(e) + \" ,\"\n",
    "        result = result[0:len(result)-2] + \"}\"\n",
    "        return result\n",
    "\n",
    "    @staticmethod    \n",
    "    def eliminate_duplicate(l):\n",
    "        s = []\n",
    "        for e in l:\n",
    "            if e not in s:\n",
    "                s.append(e)\n",
    "        l[:] = []\n",
    "        for e in s:\n",
    "            l.append(e)\n",
    "    def __or__(self,other) :\n",
    "        l = self + other\n",
    "        MySet.eliminate_duplicate(l)\n",
    "        return l\n",
    "    def __and__(self,other) :\n",
    "        l = []\n",
    "        for x in self :\n",
    "            if x in other :\n",
    "                l.append(x)\n",
    "        return l\n",
    "    def __sub__(self,other) :\n",
    "        l = self\n",
    "        for x in other :\n",
    "            if x in l :\n",
    "                l.remove(x)\n",
    "        return l"
   ]
  },
  {
   "cell_type": "markdown",
   "metadata": {},
   "source": [
    "###06. MySet클래스와 len(), bool(), in"
   ]
  },
  {
   "cell_type": "markdown",
   "metadata": {},
   "source": [
    "MySet클래스는 기본적으로 list를 상속받는 클래스이기 때문에 len(), bool(), in등을 따로 정의하지 않아도 list와 같은 방식으로 수행된다."
   ]
  }
 ],
 "metadata": {
  "kernelspec": {
   "display_name": "Python 2",
   "language": "python",
   "name": "python2"
  },
  "language_info": {
   "codemirror_mode": {
    "name": "ipython",
    "version": 2
   },
   "file_extension": ".py",
   "mimetype": "text/x-python",
   "name": "python",
   "nbconvert_exporter": "python",
   "pygments_lexer": "ipython2",
   "version": "2.7.9"
  }
 },
 "nbformat": 4,
 "nbformat_minor": 0
}
