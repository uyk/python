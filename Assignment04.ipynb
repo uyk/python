{
 "cells": [
  {
   "cell_type": "markdown",
   "metadata": {},
   "source": [
    "# Script Programming\n",
    "##Assignment 04"
   ]
  },
  {
   "cell_type": "markdown",
   "metadata": {},
   "source": [
    "###1 - 1"
   ]
  },
  {
   "cell_type": "code",
   "execution_count": 1,
   "metadata": {
    "collapsed": false
   },
   "outputs": [],
   "source": [
    "#-*- coding: utf-8 -*-\n",
    "import os\n",
    "f = file('s.txt','r')\n",
    "s = f.read().split('\\n')\n",
    "s.sort()\n",
    "s = '\\n'.join(s)\n",
    "f.close()\n",
    "\n",
    "f = file('s1.txt','w')\n",
    "f.writelines(s)\n",
    "f.close()"
   ]
  },
  {
   "cell_type": "markdown",
   "metadata": {},
   "source": [
    "###1 - 2"
   ]
  },
  {
   "cell_type": "code",
   "execution_count": 2,
   "metadata": {
    "collapsed": true
   },
   "outputs": [],
   "source": [
    "#-*- coding: utf-8 -*-\n",
    "def mycmp(a1,a2) :\n",
    "    return cmp(a1[1],a2[1])\n",
    "import os\n",
    "f = file('s.txt','r')\n",
    "s = f.read().split('\\n')\n",
    "s.sort(mycmp)\n",
    "s = '\\n'.join(s)\n",
    "f.close()\n",
    "\n",
    "f = file('s2.txt','w')\n",
    "f.writelines(s)\n",
    "f.close()"
   ]
  },
  {
   "cell_type": "markdown",
   "metadata": {},
   "source": [
    "###1 - 3"
   ]
  },
  {
   "cell_type": "code",
   "execution_count": 3,
   "metadata": {
    "collapsed": false
   },
   "outputs": [
    {
     "name": "stdout",
     "output_type": "stream",
     "text": [
      "pig ham cat\n",
      "dog ham bird\n",
      "dog pig\n"
     ]
    }
   ],
   "source": [
    "#-*- coding: utf-8 -*-\n",
    "import os\n",
    "f = file('s.txt','r')\n",
    "s = f.read().split()\n",
    "s1 = ' '.join(s[0:3])\n",
    "s2 = ' '.join(s[3:6])\n",
    "s3 = ' '.join(s[6:8])\n",
    "s = '\\n'.join([s1,s2,s3])\n",
    "print s\n",
    "f.close()\n",
    "\n",
    "f = file('s3.txt','w')\n",
    "f.writelines(s)\n",
    "f.close()"
   ]
  },
  {
   "cell_type": "markdown",
   "metadata": {},
   "source": [
    "###2"
   ]
  },
  {
   "cell_type": "code",
   "execution_count": 1,
   "metadata": {
    "collapsed": false
   },
   "outputs": [
    {
     "name": "stdout",
     "output_type": "stream",
     "text": [
      "Welcome to Our Service\n",
      "1.Sign Up\n",
      "2.Sign In\n",
      "3.Quit\n",
      "1\n",
      "ID : 123\n",
      "PW : 123\n",
      "name : 123\n",
      "school : 123\n",
      "\n",
      "Welcome to Our Service\n",
      "1.Sign Up\n",
      "2.Sign In\n",
      "3.Quit\n",
      "3\n"
     ]
    }
   ],
   "source": [
    "#-*- coding: utf-8 -*-\n",
    "import os\n",
    "import sha\n",
    "while (1) :\n",
    "    num = input(\"\"\"Welcome to Our Service\n",
    "1.Sign Up\n",
    "2.Sign In\n",
    "3.Quit\\n\"\"\")\n",
    "    if num == 1 :\n",
    "        ID = raw_input(\"ID : \")\n",
    "        if os.access('access.txt',os.F_OK) :\n",
    "            f = file('access.txt','r')\n",
    "            for line in f.readlines() :\n",
    "                element = line.split()\n",
    "                while ID == element[2] :\n",
    "                    print \"Sorry, the entered ID is already used.\"\n",
    "                    ID = raw_input(\"ID : \")\n",
    "            f.close()\n",
    "        PW = raw_input(\"PW : \")\n",
    "        PW = sha.new(PW).hexdigest()\n",
    "        name = raw_input(\"name : \")\n",
    "        school = raw_input(\"school : \")\n",
    "        print\n",
    "        \n",
    "        s = \"[ID] : %s [PW] : %s [name] : %s [school] : %s \\n\" % (ID,PW,name,school)\n",
    "        f = file('access.txt','a')\n",
    "        f.write(s)\n",
    "        f.close()\n",
    "    if num == 2:\n",
    "        ID = raw_input(\"ID : \")\n",
    "        PW = raw_input(\"PW : \")\n",
    "        if os.access('access.txt',os.F_OK) :\n",
    "            f = file('access.txt','r')\n",
    "            for line in f.readlines() :\n",
    "                element = line.split()\n",
    "                if ID == element[2] :\n",
    "                    if sha.new(PW).hexdigest() != element[5] :\n",
    "                        print \"Sorry, the entered password is not correct.\"\n",
    "                        PW = raw_input(\"Enter other pw : \")\n",
    "                        if sha.new(PW).hexdigest() != element[5] :\n",
    "                            print \"Sorry, the entered password is not correct.\"\n",
    "                        else :\n",
    "                            print \"Hello [%s]!\" % (element[2])\n",
    "                            break\n",
    "                        break\n",
    "                    else :\n",
    "                        print \"Hello [%s]!\" % (element[2])\n",
    "                        break\n",
    "            else :\n",
    "                print \"Sorry, you are not a registered member.\"\n",
    "            f.close()\n",
    "        else :\n",
    "            print 'Sorry, yor are not a registered member.'\n",
    "    if num == 3:\n",
    "        break;\n"
   ]
  },
  {
   "cell_type": "markdown",
   "metadata": {},
   "source": [
    "###3"
   ]
  },
  {
   "cell_type": "code",
   "execution_count": 4,
   "metadata": {
    "collapsed": false
   },
   "outputs": [
    {
     "name": "stdout",
     "output_type": "stream",
     "text": [
      "[0.0, 0.1, 0.2, 0.3, 0.4]\n",
      "[1.0, 1.1, 1.2, 1.3, 1.4, 1.5, 1.6, 1.7, 1.8, 1.9]\n",
      "[2.2, 2.7, 3.2, 3.7]\n"
     ]
    }
   ],
   "source": [
    "#-*-coding: utf-8 -*-\n",
    "#3번 문제\n",
    "def frange(*args) :\n",
    "    if len(args) == 1:\n",
    "        return [float(x) / 10 for x in range(int(args[0]*10))]\n",
    "    elif len(args) == 2:\n",
    "        return [float(x) / 10 for x in range(int(args[0]*10), int(args[1]*10))]\n",
    "    else :\n",
    "        return [float(x) / 10 for x in range(int(args[0]*10), int(args[1]*10), int(args[2]*10))]\n",
    "print frange(0.5)\n",
    "print frange(1.0,2.0)\n",
    "print frange(2.2,4.0,0.5)"
   ]
  },
  {
   "cell_type": "markdown",
   "metadata": {},
   "source": [
    "###4"
   ]
  },
  {
   "cell_type": "code",
   "execution_count": 5,
   "metadata": {
    "collapsed": false
   },
   "outputs": [
    {
     "name": "stdout",
     "output_type": "stream",
     "text": [
      "-47\n"
     ]
    }
   ],
   "source": [
    "def sum(*args) :\n",
    "    return reduce(lambda x, y : x+y, args,0)\n",
    "print sum(1,2,50,-100)"
   ]
  },
  {
   "cell_type": "markdown",
   "metadata": {},
   "source": [
    "###5"
   ]
  },
  {
   "cell_type": "code",
   "execution_count": 7,
   "metadata": {
    "collapsed": false
   },
   "outputs": [
    {
     "name": "stdout",
     "output_type": "stream",
     "text": [
      "ASAP\n"
     ]
    }
   ],
   "source": [
    "def myinitial(s):\n",
    "    print ''.join(map(lambda x : x[0].upper(), s.split()))\n",
    "myinitial(\"as soon as possible\")"
   ]
  },
  {
   "cell_type": "markdown",
   "metadata": {},
   "source": [
    "###6"
   ]
  },
  {
   "cell_type": "code",
   "execution_count": 8,
   "metadata": {
    "collapsed": false
   },
   "outputs": [
    {
     "name": "stdout",
     "output_type": "stream",
     "text": [
      "3628800\n"
     ]
    }
   ],
   "source": [
    "def myfact(n) :\n",
    "    if n == 0:\n",
    "        return 1\n",
    "    return n * myfact(n-1)\n",
    "print myfact(10)"
   ]
  },
  {
   "cell_type": "markdown",
   "metadata": {},
   "source": [
    "###7"
   ]
  },
  {
   "cell_type": "markdown",
   "metadata": {},
   "source": [
    "import string은 string라이브러리를 이름공간에 추가하는 것이다. import string을 하고 dir()을 하면 이름공간에는'__builtins__', '__doc__', '__name__', '__package__', 'string'가 존재하는 것을 확인할 수 있다. 따라서string라이브러리의 함수인 atoi()를 호출하고 싶으면 string.atoi('10')으로 호출해야 한다.\n",
    "반면에 from string import *는 string이라는 라이브러리의 모든 이름을 현재 이름공간에 추가하는 것이다. from string import * 를 하고 dir()을 하면 이름공간에는 'Formatter', 'Template', '__builtins__', '__doc__', '__name__', '__package__', 'ascii_letters', 'ascii_lowercase', 'ascii_uppercase', 'atof', 'atof_error', 'atoi', 'atoi_error', 'atol', 'atol_error', 'capitalize', 'capwords', 'center', 'count', 'digits', 'expandtabs', 'find', 'hexdigits', 'index', 'index_error', 'join', 'joinfields', 'letters', 'ljust', 'lower', 'lowercase', 'lstrip', 'maketrans', 'octdigits', 'printable', 'punctuation', 'replace', 'rfind', 'rindex', 'rjust', 'rsplit', 'rstrip', 'split', 'splitfields', 'strip', 'swapcase', 'translate', 'upper', 'uppercase', 'whitespace', 'zfill' 등 string의 모든 함수와 변수이름이 추가된 것을 볼 수 있다. 따라서 atoi를 호출하고 싶으면 string을 언급할 필요 없이 바로 atoi('10')으로 호출하면 된다. 다만 이런식으로 라이브러리의 모든 이름을 가져올 경우 기존의 이름공간의 이름과 겹치는 것이 발생할 수 있으므로 주의해야 한다."
   ]
  },
  {
   "cell_type": "code",
   "execution_count": null,
   "metadata": {
    "collapsed": true
   },
   "outputs": [],
   "source": []
  }
 ],
 "metadata": {
  "kernelspec": {
   "display_name": "Python 2",
   "language": "python",
   "name": "python2"
  },
  "language_info": {
   "codemirror_mode": {
    "name": "ipython",
    "version": 2
   },
   "file_extension": ".py",
   "mimetype": "text/x-python",
   "name": "python",
   "nbconvert_exporter": "python",
   "pygments_lexer": "ipython2",
   "version": "2.7.9"
  }
 },
 "nbformat": 4,
 "nbformat_minor": 0
}
