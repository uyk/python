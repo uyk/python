{
 "cells": [
  {
   "cell_type": "markdown",
   "metadata": {},
   "source": [
    "# Script Programming\n",
    "##Assignment 04"
   ]
  },
  {
   "cell_type": "markdown",
   "metadata": {},
   "source": [
    "###1 - 1"
   ]
  },
  {
   "cell_type": "code",
   "execution_count": 1,
   "metadata": {
    "collapsed": false
   },
   "outputs": [],
   "source": [
    "#-*- coding: utf-8 -*-\n",
    "import os\n",
    "f = file('s.txt','r')\n",
    "s = f.read().split('\\n')\n",
    "s.sort()\n",
    "s = '\\n'.join(s)\n",
    "f.close()\n",
    "\n",
    "f = file('s1.txt','w')\n",
    "f.writelines(s)\n",
    "f.close()"
   ]
  },
  {
   "cell_type": "markdown",
   "metadata": {},
   "source": [
    "###1 - 2"
   ]
  },
  {
   "cell_type": "code",
   "execution_count": 2,
   "metadata": {
    "collapsed": true
   },
   "outputs": [],
   "source": [
    "#-*- coding: utf-8 -*-\n",
    "def mycmp(a1,a2) :\n",
    "    return cmp(a1[1],a2[1])\n",
    "import os\n",
    "f = file('s.txt','r')\n",
    "s = f.read().split('\\n')\n",
    "s.sort(mycmp)\n",
    "s = '\\n'.join(s)\n",
    "f.close()\n",
    "\n",
    "f = file('s2.txt','w')\n",
    "f.writelines(s)\n",
    "f.close()"
   ]
  },
  {
   "cell_type": "markdown",
   "metadata": {},
   "source": [
    "###1 - 3"
   ]
  },
  {
   "cell_type": "code",
   "execution_count": 3,
   "metadata": {
    "collapsed": false
   },
   "outputs": [
    {
     "name": "stdout",
     "output_type": "stream",
     "text": [
      "pig ham cat\n",
      "dog ham bird\n",
      "dog pig\n"
     ]
    }
   ],
   "source": [
    "#-*- coding: utf-8 -*-\n",
    "import os\n",
    "f = file('s.txt','r')\n",
    "s = f.read().split()\n",
    "s1 = ' '.join(s[0:3])\n",
    "s2 = ' '.join(s[3:6])\n",
    "s3 = ' '.join(s[6:8])\n",
    "s = '\\n'.join([s1,s2,s3])\n",
    "print s\n",
    "f.close()\n",
    "\n",
    "f = file('s3.txt','w')\n",
    "f.writelines(s)\n",
    "f.close()"
   ]
  },
  {
   "cell_type": "markdown",
   "metadata": {},
   "source": [
    "###2"
   ]
  },
  {
   "cell_type": "code",
   "execution_count": null,
   "metadata": {
    "collapsed": false
   },
   "outputs": [],
   "source": [
    "#-*- coding: utf-8 -*-\n",
    "num = input(\"\"\"Welcome to Our Service\n",
    "\n",
    "1.Sign Up\n",
    "2.Sign In\n",
    "3.Quit\\n\"\"\")\n",
    "ID = raw_input(\"ID : \")\n",
    "PW = raw_input(\"PW : \")\n",
    "name = raw_input(\"name : \")\n",
    "school = raw_input(\"school : \")\n",
    "s = \"ID : %s, PW : %s, name : %s, school : %s\" % (ID,PW,name,school)\n",
    "\n",
    "f = file('access.txt','a')\n",
    "f.write(s)\n",
    "f.close()"
   ]
  },
  {
   "cell_type": "markdown",
   "metadata": {},
   "source": [
    "###1 - 3"
   ]
  },
  {
   "cell_type": "code",
   "execution_count": 3,
   "metadata": {
    "collapsed": false
   },
   "outputs": [
    {
     "name": "stdout",
     "output_type": "stream",
     "text": [
      "pig ham cat\n",
      "dog ham bird\n",
      "dog pig\n"
     ]
    }
   ],
   "source": [
    "#-*- coding: utf-8 -*-\n",
    "import os\n",
    "f = file('s.txt','r')\n",
    "s = f.read().split()\n",
    "s1 = ' '.join(s[0:3])\n",
    "s2 = ' '.join(s[3:6])\n",
    "s3 = ' '.join(s[6:8])\n",
    "s = '\\n'.join([s1,s2,s3])\n",
    "print s\n",
    "f.close()\n",
    "\n",
    "f = file('s3.txt','w')\n",
    "f.writelines(s)\n",
    "f.close()"
   ]
  },
  {
   "cell_type": "code",
   "execution_count": null,
   "metadata": {
    "collapsed": true
   },
   "outputs": [],
   "source": []
  }
 ],
 "metadata": {
  "kernelspec": {
   "display_name": "Python 2",
   "language": "python",
   "name": "python2"
  },
  "language_info": {
   "codemirror_mode": {
    "name": "ipython",
    "version": 2
   },
   "file_extension": ".py",
   "mimetype": "text/x-python",
   "name": "python",
   "nbconvert_exporter": "python",
   "pygments_lexer": "ipython2",
   "version": "2.7.9"
  }
 },
 "nbformat": 4,
 "nbformat_minor": 0
}
